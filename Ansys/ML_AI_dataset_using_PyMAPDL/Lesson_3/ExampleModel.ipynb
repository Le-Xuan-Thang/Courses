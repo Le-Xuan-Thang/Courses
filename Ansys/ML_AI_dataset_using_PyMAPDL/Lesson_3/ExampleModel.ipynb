{
 "cells": [
  {
   "cell_type": "markdown",
   "id": "5ad7ee62-65ff-430b-9f85-7211c845ebf4",
   "metadata": {},
   "source": [
    "# Lesson 3 - Example Model"
   ]
  },
  {
   "cell_type": "code",
   "execution_count": 3,
   "id": "e0676afe-6942-4c49-a1f1-648428322bec",
   "metadata": {},
   "outputs": [
    {
     "name": "stdout",
     "output_type": "stream",
     "text": [
      "Run New MAPDL instance\n"
     ]
    }
   ],
   "source": [
    "import os\n",
    "from ansys.mapdl.core import launch_mapdl\n",
    "from path_tools import *\n",
    "\n",
    "# Define project directory and TMP folder\n",
    "project_dir = os.getcwd()\n",
    "tmp_dir = os.path.join(project_dir, \"tmp\")\n",
    "\n",
    "# Create tmp directory if it doesn't exist\n",
    "os.makedirs(tmp_dir, exist_ok=True)\n",
    "\n",
    "# Path to the ANSYS executable\n",
    "ansys_path = \"C:\\\\Program Files\\\\ANSYS Inc\\\\v242\\\\ansys\\\\bin\\\\winx64\\\\ANSYS242.exe\"\n",
    "\n",
    "# Convert the Windows path to WSL path\n",
    "ansys_path = windows_to_wsl_path(ansys_path)\n",
    "\n",
    "# Job name\n",
    "job_name = \"strain_dataset\"\n",
    "print(\"Run New MAPDL instance\")"
   ]
  },
  {
   "cell_type": "code",
   "execution_count": 4,
   "id": "b3ecaa74-5b0a-4c9a-bb6d-affb9d9b9197",
   "metadata": {},
   "outputs": [
    {
     "name": "stderr",
     "output_type": "stream",
     "text": [
      "/home/thanglx/miniconda3/envs/ansys/lib/python3.10/site-packages/ansys/tools/path/path.py:1002: UserWarning: No path found for mapdl in default locations.\n",
      "  warnings.warn(f\"No path found for {product} in default locations.\")\n"
     ]
    }
   ],
   "source": [
    "mapdl = launch_mapdl(run_location=tmp_dir, \n",
    "                     remove_temp_dir_on_exit = True, \n",
    "                     cleanup_on_exit = True,\n",
    "                     jobname = job_name,\n",
    "                     exec_file = ansys_path,\n",
    "                     additional_switches = '-smp', \n",
    "                     nproc = 2)"
   ]
  },
  {
   "cell_type": "code",
   "execution_count": 5,
   "id": "41927d26-6103-473d-a7a1-c1cf23c6a2fe",
   "metadata": {},
   "outputs": [],
   "source": [
    "Length_Inches = 4.5\n",
    "Height_Inches = 2\n",
    "\n",
    "sensors = { 'x1': 1,    'y1': .5,\n",
    "            'x2': 2.25, 'y2': .5,\n",
    "            'x3': 3.5,  'y3': .5,\n",
    "            'x4': 1,    'y4': 1.5,\n",
    "            'x5': 2.25, 'y5': 1.5,\n",
    "            'x6': 3.5,  'y6': 1.5,\n",
    "            'x7': .5,   'y7': 1,\n",
    "            'x8': 4,    'y8': 1\n",
    "          }\n",
    "\n",
    "mapdl.clear()\n",
    "mapdl.prep7()\n",
    "mapdl.blc4(0, 0, Length_Inches, Height_Inches, 0)\n",
    "mapdl.adele('all')\n",
    "\n",
    "mapdl.lfillt(1,2,.2)\n",
    "mapdl.lfillt(2,3,.2)\n",
    "mapdl.lfillt(3,4,.2)\n",
    "mapdl.lfillt(4,1,.2)\n",
    "\n",
    "mapdl.numcmp('area')\n",
    "mapdl.al('all')\n",
    "\n",
    "for points in range(1, int((len(sensors)/2)+1)):\n",
    "    mapdl.hptcreate('area',1,'','coord',sensors['x'+str(points)], sensors['y'+str(points)])\n"
   ]
  },
  {
   "cell_type": "code",
   "execution_count": 6,
   "id": "082b131b-5e73-457c-9d1c-248909f0f99d",
   "metadata": {},
   "outputs": [
    {
     "name": "stdout",
     "output_type": "stream",
     "text": [
      "3979\n"
     ]
    }
   ],
   "source": [
    "mapdl.et(1,181)\n",
    "    \n",
    "mapdl.mp('ex',1,1e7)\n",
    "mapdl.sectype(1,'shell')\n",
    "mapdl.secdata(.1,1)\n",
    "\n",
    "mapdl.mshape(1,'2d')\n",
    "mapdl.aesize('all',.05)\n",
    "mapdl.amesh('all')\n",
    "\n",
    "mapdl.allsel()\n",
    "mapdl.nsll('u',1)\n",
    "mapdl.nslk('u')\n",
    "\n",
    "node_count = int(mapdl.get_value('node',0,'count'))\n",
    "print(node_count)"
   ]
  },
  {
   "cell_type": "code",
   "execution_count": 7,
   "id": "23590146-0a5c-4edf-9d40-d79c01da3177",
   "metadata": {},
   "outputs": [],
   "source": [
    "nodes = mapdl.mesh.nodes\n",
    "f = open('pointset.csv', 'w')\n",
    "for node in nodes:\n",
    "    f.write(str(node[0]) + ' , ' + str(node[1]) + '\\n')\n",
    "f.close()"
   ]
  },
  {
   "cell_type": "code",
   "execution_count": 8,
   "id": "d5e9bbd4-9417-41f3-8382-c3b04df05c23",
   "metadata": {},
   "outputs": [],
   "source": [
    "mapdl.exit()"
   ]
  },
  {
   "cell_type": "code",
   "execution_count": null,
   "id": "1de1d7f8-e761-458a-801e-130b7ec1a5c8",
   "metadata": {},
   "outputs": [],
   "source": []
  }
 ],
 "metadata": {
  "kernelspec": {
   "display_name": "ansys",
   "language": "python",
   "name": "python3"
  },
  "language_info": {
   "codemirror_mode": {
    "name": "ipython",
    "version": 3
   },
   "file_extension": ".py",
   "mimetype": "text/x-python",
   "name": "python",
   "nbconvert_exporter": "python",
   "pygments_lexer": "ipython3",
   "version": "3.10.16"
  }
 },
 "nbformat": 4,
 "nbformat_minor": 5
}
